{
 "cells": [
  {
   "cell_type": "markdown",
   "metadata": {},
   "source": [
    "# Profitable App Profiles for the App Store and Google Play Markets\n",
    "\n",
    "our aim in this project to find the profitable apps for App store and Google play sotre. We are working as Data Analyst for\n",
    "a company that builds the Android and iOS apps for the users.The company bulds the apps the free to download and install, our\n",
    "main source of revenue is in-app ads.\n",
    "\n",
    "Our goal for this project is to analyze data to help our developers understand what type of apps are likely to attract more user.\n",
    "\n"
   ]
  },
  {
   "cell_type": "markdown",
   "metadata": {},
   "source": [
    "# Opening and Exploring data\n",
    "\n",
    "We have two sample dataset:\n",
    "\n",
    "1. [A data set](https://www.kaggle.com/lava18/google-play-store-apps) conatining data about approximately 10000 android apps from google play store. You can download dataset directly from [this link](https://dq-content.s3.amazonaws.com/350/googleplaystore.csv).\n",
    "\n",
    "2. [A data set](https://www.kaggle.com/ramamet4/app-store-apple-data-set-10k-apps) containing data about approximately 7000 ios apps from App store. you can download dataset directly from [this link](https://dq-content.s3.amazonaws.com/350/AppleStore.csv).\n",
    "\n",
    "Let's start by opening the two data sets and then continue with exploring the data."
   ]
  },
  {
   "cell_type": "code",
   "execution_count": 1,
   "metadata": {},
   "outputs": [],
   "source": [
    "from csv import reader\n",
    "\n",
    "def open_dataset(filepath):\n",
    "    opened_file = open(filepath, encoding='utf8')\n",
    "    read_file = reader(opened_file)\n",
    "    return list(read_file)\n",
    "\n",
    "# The App store data set ####\n",
    "ios = open_dataset('dataset/AppleStore.csv')\n",
    "ios_header = ios[0]\n",
    "ios_data = ios[1:]\n",
    "\n",
    "#The Google play data set ###########\n",
    "android = open_dataset('dataset/googleplaystore.csv')\n",
    "android_header = android[0]\n",
    "android_data =  android[1:]"
   ]
  },
  {
   "cell_type": "markdown",
   "metadata": {},
   "source": [
    "We will write a function first to explore named explore_data() the data that we can use repeatedly to explore rows in more readabe ways. We'll also add the option to function to show the number of columns and row in the data set."
   ]
  },
  {
   "cell_type": "code",
   "execution_count": 2,
   "metadata": {},
   "outputs": [
    {
     "name": "stdout",
     "output_type": "stream",
     "text": [
      "['284882215', 'Facebook', '389879808', 'USD', '0.0', '2974676', '212', '3.5', '3.5', '95.0', '4+', 'Social Networking', '37', '1', '29', '1']\n",
      "\n",
      "\n",
      "['389801252', 'Instagram', '113954816', 'USD', '0.0', '2161558', '1289', '4.5', '4.0', '10.23', '12+', 'Photo & Video', '37', '0', '29', '1']\n",
      "\n",
      "\n",
      "['529479190', 'Clash of Clans', '116476928', 'USD', '0.0', '2130805', '579', '4.5', '4.5', '9.24.12', '9+', 'Games', '38', '5', '18', '1']\n",
      "\n",
      "\n",
      "Number of rows :  7197\n",
      "Number fo columns:  16\n",
      "['Photo Editor & Candy Camera & Grid & ScrapBook', 'ART_AND_DESIGN', '4.1', '159', '19M', '10,000+', 'Free', '0', 'Everyone', 'Art & Design', 'January 7, 2018', '1.0.0', '4.0.3 and up']\n",
      "\n",
      "\n",
      "['Coloring book moana', 'ART_AND_DESIGN', '3.9', '967', '14M', '500,000+', 'Free', '0', 'Everyone', 'Art & Design;Pretend Play', 'January 15, 2018', '2.0.0', '4.0.3 and up']\n",
      "\n",
      "\n",
      "['U Launcher Lite – FREE Live Cool Themes, Hide Apps', 'ART_AND_DESIGN', '4.7', '87510', '8.7M', '5,000,000+', 'Free', '0', 'Everyone', 'Art & Design', 'August 1, 2018', '1.2.4', '4.0.3 and up']\n",
      "\n",
      "\n",
      "Number of rows :  10841\n",
      "Number fo columns:  13\n"
     ]
    }
   ],
   "source": [
    "def explore_data(dataset, start, end, row_and_columns=False):\n",
    "    dataset_slice =  dataset[start:end]\n",
    "    \n",
    "    for row in dataset_slice:\n",
    "        print(row)\n",
    "        print(\"\\n\") # adds new (empty) line after each row\n",
    "        \n",
    "    if row_and_columns:\n",
    "        print('Number of rows : ', len(dataset))\n",
    "        print('Number fo columns: ', len(dataset[0]))\n",
    "            \n",
    "explore_data(ios_data, 0, 3, True)\n",
    "explore_data(android_data, 0, 3, True)"
   ]
  },
  {
   "cell_type": "markdown",
   "metadata": {},
   "source": []
  }
 ],
 "metadata": {
  "kernelspec": {
   "display_name": "Python 3",
   "language": "python",
   "name": "python3"
  },
  "language_info": {
   "codemirror_mode": {
    "name": "ipython",
    "version": 3
   },
   "file_extension": ".py",
   "mimetype": "text/x-python",
   "name": "python",
   "nbconvert_exporter": "python",
   "pygments_lexer": "ipython3",
   "version": "3.8.1"
  }
 },
 "nbformat": 4,
 "nbformat_minor": 2
}
